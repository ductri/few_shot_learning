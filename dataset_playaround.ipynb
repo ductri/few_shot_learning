{
 "cells": [
  {
   "cell_type": "code",
   "execution_count": 18,
   "metadata": {},
   "outputs": [],
   "source": [
    "import logging\n",
    "logging.basicConfig(level=logging.INFO)\n",
    "import pickle\n",
    "from collections import Counter\n",
    "\n",
    "import numpy as np\n",
    "import pandas as pd\n",
    "import matplotlib.pylab as plt\n",
    "\n",
    "from naruto_skills import dataset\n",
    "from naruto_skills.text_transformer import TextTransformer"
   ]
  },
  {
   "cell_type": "code",
   "execution_count": 19,
   "metadata": {},
   "outputs": [
    {
     "name": "stderr",
     "output_type": "stream",
     "text": [
      "INFO:root:Loaded vocab successfully. It contains 12286 words\n"
     ]
    }
   ],
   "source": [
    "# my_dataset = dataset.Dataset.create_from_npz('./model/data_for_train/output/without_entity/')\n",
    "my_dataset = dataset.Dataset.create_from_npz('data_for_train/output/')\n",
    "text_transformer = TextTransformer.get_instance('we/output/vocab.txt')"
   ]
  },
  {
   "cell_type": "code",
   "execution_count": 20,
   "metadata": {},
   "outputs": [
    {
     "name": "stderr",
     "output_type": "stream",
     "text": [
      "INFO:root:Dataset size: 10000\n"
     ]
    },
    {
     "name": "stdout",
     "output_type": "stream",
     "text": [
      "Data train has size: 8000\n",
      "0    5351\n",
      "1    2649\n",
      "Name: y, dtype: int64\n",
      "Data eval has size: 1800\n",
      "0    1194\n",
      "1     606\n",
      "Name: y, dtype: int64\n",
      "Data test has size: 200\n",
      "0    122\n",
      "1     78\n",
      "Name: y, dtype: int64\n"
     ]
    }
   ],
   "source": [
    "my_dataset.show_info()"
   ]
  },
  {
   "cell_type": "code",
   "execution_count": 21,
   "metadata": {},
   "outputs": [],
   "source": [
    "my_iter = my_dataset.data_train.get_data_iterator(batch_size=10)"
   ]
  },
  {
   "cell_type": "code",
   "execution_count": 27,
   "metadata": {},
   "outputs": [
    {
     "data": {
      "text/plain": [
       "(10, 2)"
      ]
     },
     "execution_count": 27,
     "metadata": {},
     "output_type": "execute_result"
    }
   ],
   "source": [
    "X.shape"
   ]
  },
  {
   "cell_type": "code",
   "execution_count": 28,
   "metadata": {},
   "outputs": [],
   "source": [
    "x1, x2 = list(zip(*X))"
   ]
  },
  {
   "cell_type": "code",
   "execution_count": 32,
   "metadata": {},
   "outputs": [
    {
     "data": {
      "text/plain": [
       "{'attribute_good_ids': ['80447'],\n",
       " 'id': '04ecfb4d-b4e0-5767-b003-4f41d874d748',\n",
       " 'mention': [746,\n",
       "  7,\n",
       "  508,\n",
       "  634,\n",
       "  746,\n",
       "  7,\n",
       "  28,\n",
       "  679,\n",
       "  1520,\n",
       "  442,\n",
       "  1899,\n",
       "  445,\n",
       "  73,\n",
       "  5,\n",
       "  7,\n",
       "  2,\n",
       "  782,\n",
       "  94,\n",
       "  200,\n",
       "  14,\n",
       "  40,\n",
       "  6,\n",
       "  118,\n",
       "  28,\n",
       "  267,\n",
       "  264,\n",
       "  0,\n",
       "  12284,\n",
       "  12284,\n",
       "  12284,\n",
       "  12284,\n",
       "  12284,\n",
       "  12284,\n",
       "  12284,\n",
       "  12284,\n",
       "  12284,\n",
       "  12284,\n",
       "  12284,\n",
       "  12284,\n",
       "  12284,\n",
       "  12284,\n",
       "  12284,\n",
       "  12284,\n",
       "  12284,\n",
       "  12284,\n",
       "  12284,\n",
       "  12284,\n",
       "  12284,\n",
       "  12284,\n",
       "  12284,\n",
       "  12284,\n",
       "  12284,\n",
       "  12284,\n",
       "  12284,\n",
       "  12284,\n",
       "  12284,\n",
       "  12284,\n",
       "  12284,\n",
       "  12284,\n",
       "  12284,\n",
       "  12284,\n",
       "  12284,\n",
       "  12284,\n",
       "  12284,\n",
       "  12284,\n",
       "  12284,\n",
       "  12284,\n",
       "  12284,\n",
       "  12284,\n",
       "  12284,\n",
       "  12284,\n",
       "  12284,\n",
       "  12284,\n",
       "  12284,\n",
       "  12284,\n",
       "  12284,\n",
       "  12284,\n",
       "  12284,\n",
       "  12284,\n",
       "  12284,\n",
       "  12284,\n",
       "  12284,\n",
       "  12284,\n",
       "  12284,\n",
       "  12284,\n",
       "  12284,\n",
       "  12284,\n",
       "  12284,\n",
       "  12284,\n",
       "  12284,\n",
       "  12284,\n",
       "  12284,\n",
       "  12284,\n",
       "  12284,\n",
       "  12284,\n",
       "  12284,\n",
       "  12284,\n",
       "  12284,\n",
       "  12284,\n",
       "  12284]}"
      ]
     },
     "execution_count": 32,
     "metadata": {},
     "output_type": "execute_result"
    }
   ],
   "source": [
    "x1[0]"
   ]
  },
  {
   "cell_type": "code",
   "execution_count": 25,
   "metadata": {},
   "outputs": [
    {
     "name": "stdout",
     "output_type": "stream",
     "text": [
      "Text 1: \tkhí lạnh đa chiều khí lạnh được lan tỏa đều khắp nơi trong tủ lạnh , đảm bảo thực phẩm của bạn luôn được tươi ngon .\n",
      "Attribute 1: \t['80447']\n",
      "ID 1: \t04ecfb4d-b4e0-5767-b003-4f41d874d748\n",
      "Text 2: \tnhà mình có rồi dùng thích lắm đấy mọi người ạ\n",
      "Attribute 2: \t['80447']\n",
      "ID 2: \tad04e48e-2ace-52ee-bf8f-e1a8a377ec8b\n",
      "Label: \t 1\n",
      "\n",
      "Text 1: \t@ nguyễn hoàng : cho chi hỏi tu lạnh sam sung numpatt lit giá bao nhiêu\n",
      "Attribute 1: \t['126580']\n",
      "ID 1: \t412aa5d2-59dc-5e6a-ad72-168cb42cb3f4\n",
      "Text 2: \tkhông mua thì thôi , đã mua thì phải nên mua tủ lạnh to lớn như này để thực phẩm mới đc nhiều nè , mà nghe đâu sp này bảo quản thực phẩm tươi gấp 2 lần lận\n",
      "Attribute 2: \t['405446', '80407', '80447']\n",
      "ID 2: \t7f824899-5d56-592f-9ca1-85a8e911708f\n",
      "Label: \t 0\n",
      "\n",
      "Text 1: \ttủ lạnh sam sum giá bao mhieu vậy\n",
      "Attribute 1: \t['126580']\n",
      "ID 1: \t8c12478b-0cf6-5ab9-895d-2da45238dc92\n",
      "Text 2: \tgia bn\n",
      "Attribute 2: \t['126580']\n",
      "ID 2: \tbb7c9861-95a3-50d9-ae11-d858cd6c9aaf\n",
      "Label: \t 1\n",
      "\n",
      "Text 1: \ttủ này bao nhiêu tiền ah chị\n",
      "Attribute 1: \t['126580']\n",
      "ID 1: \t8225face-5ee7-5a48-af29-aaea170ac9ef\n",
      "Text 2: \tgiá bniu ak\n",
      "Attribute 2: \t['126580']\n",
      "ID 2: \t3681e48f-ba32-5cb3-9bd5-7d52c0e3ed7a\n",
      "Label: \t 1\n",
      "\n",
      "Text 1: \tdùng tủ của tulanh_brand thì thích rồi , huống chi tủ to urlpatt\n",
      "Attribute 1: \t['405446', '80407']\n",
      "ID 1: \t450d6427-c873-5009-b9f9-4529bdf3eeef\n",
      "Text 2: \tcho m hỏi tủ lạnh sanyo mini bnhiêu tiền vậy\n",
      "Attribute 2: \t['126580']\n",
      "ID 2: \t8d6c4112-5e72-5038-b5f4-e71f5d76ff3b\n",
      "Label: \t 0\n",
      "\n",
      "Text 1: \tbao nhiêu tiềm\n",
      "Attribute 1: \t['126580']\n",
      "ID 1: \t2dc4f076-b37b-5295-9b9c-1db00b62246c\n",
      "Text 2: \tthích nhất là thực phẩm luôn tươi ngon chị ơi\n",
      "Attribute 2: \t['80447']\n",
      "ID 2: \te151d31a-f35a-56eb-b223-bcdc3f3a843d\n",
      "Label: \t 0\n",
      "\n",
      "Text 1: \ttủ này bao nhiêu lít vậy ?\n",
      "Attribute 1: \t['80408', '405447']\n",
      "ID 1: \t2da9d435-6d0a-5d39-803b-6eecb1e2cb9c\n",
      "Text 2: \tđẹp thế chị , nhìn cái tủ lạnh phong cách hiện đại nhỉ , nhiều chức năng hay và độc đáo quá\n",
      "Attribute 2: \t['80407', '126503']\n",
      "ID 2: \taba234cf-bd55-54eb-b342-2167910f9183\n",
      "Label: \t 0\n",
      "\n",
      "Text 1: \ttủ bự chà bá luôn , nhìn sang quá e\n",
      "Attribute 1: \t['80407', '126503']\n",
      "ID 1: \td498b4bc-7f36-5d22-937c-2dc19ea7f353\n",
      "Text 2: \ttu lanh samsung 2 dàn lanh dung tich nho nhat la bao nhju ah . gia bao nhju .\n",
      "Attribute 2: \t['126580']\n",
      "ID 2: \tde345531-2c05-50f2-97d6-ad2924832d7e\n",
      "Label: \t 0\n",
      "\n",
      "Text 1: \ttủ inverter với tủ thường loại nào đông đá nhanh hơn ? tủ em mới mua được vài ngày thấy đông đá chậm hơn tủ thường không biết có bị lỗi gì urlpatt khoảng 7 - 8 giờ đông khoảng numpatt numpatt % lon nước\n",
      "Attribute 1: \t['80446']\n",
      "ID 1: \tefe8bea5-044c-5917-9250-7450c4448a5f\n",
      "Text 2: \ttủ to thế này đựng mới sướng chệ nhể , đắt không ạ ?\n",
      "Attribute 2: \t['405446', '80407', '126580']\n",
      "ID 2: \t3f02888a-e2f3-58ff-84b2-e098825ebd45\n",
      "Label: \t 0\n",
      "\n",
      "Text 1: \tđẹp thật mẫu mới\n",
      "Attribute 1: \t['80407', '126503']\n",
      "ID 1: \t9b0c1a57-9825-50f5-a9c2-3e4298be4174\n",
      "Text 2: \tnhìn tủ lạnh mà mê quá c ơi , có tủ này là đựng được bao nhiêu đồ không lo việc dự trữ đồ ăn trong mùa world cup này rồi\n",
      "Attribute 2: \t['405446', '80407']\n",
      "ID 2: \tca2ffc2f-dc36-573e-8837-9fc92db82cb7\n",
      "Label: \t 1\n",
      "\n"
     ]
    }
   ],
   "source": [
    "X, y = next(my_iter)\n",
    "for x_, y_ in zip(X, y):\n",
    "    x1, x2 = x_\n",
    "    print('Text 1: \\t%s' % text_transformer.index_to_docs([x1['mention']])[0])\n",
    "    print('Attribute 1: \\t%s' % x1['attribute_good_ids'])\n",
    "    print('ID 1: \\t%s' % x1['id'])\n",
    "    \n",
    "    print('Text 2: \\t%s' % text_transformer.index_to_docs([x2['mention']])[0])\n",
    "    print('Attribute 2: \\t%s' % x2['attribute_good_ids'])\n",
    "    print('ID 2: \\t%s' % x2['id'])\n",
    "    print('Label: \\t', y_)\n",
    "    print()"
   ]
  },
  {
   "cell_type": "code",
   "execution_count": 14,
   "metadata": {},
   "outputs": [],
   "source": [
    "df = pd.read_csv('preprocess/output/preprocessed_data.csv', lineterminator='\\n')"
   ]
  },
  {
   "cell_type": "code",
   "execution_count": 15,
   "metadata": {},
   "outputs": [
    {
     "data": {
      "text/plain": [
       "9469"
      ]
     },
     "execution_count": 15,
     "metadata": {},
     "output_type": "execute_result"
    }
   ],
   "source": [
    "df['mark_for_test'].sum()"
   ]
  },
  {
   "cell_type": "code",
   "execution_count": 16,
   "metadata": {},
   "outputs": [
    {
     "data": {
      "text/plain": [
       "(11742, 55)"
      ]
     },
     "execution_count": 16,
     "metadata": {},
     "output_type": "execute_result"
    }
   ],
   "source": [
    "df.shape"
   ]
  },
  {
   "cell_type": "code",
   "execution_count": 17,
   "metadata": {},
   "outputs": [
    {
     "data": {
      "text/plain": [
       "7        []\n",
       "14       []\n",
       "20       []\n",
       "26       []\n",
       "28       []\n",
       "29       []\n",
       "40       []\n",
       "42       []\n",
       "51       []\n",
       "52       []\n",
       "58       []\n",
       "67       []\n",
       "85       []\n",
       "88       []\n",
       "92       []\n",
       "101      []\n",
       "104      []\n",
       "105      []\n",
       "114      []\n",
       "118      []\n",
       "123      []\n",
       "124      []\n",
       "127      []\n",
       "132      []\n",
       "135      []\n",
       "137      []\n",
       "142      []\n",
       "197      []\n",
       "222      []\n",
       "226      []\n",
       "         ..\n",
       "11425    []\n",
       "11430    []\n",
       "11431    []\n",
       "11436    []\n",
       "11442    []\n",
       "11452    []\n",
       "11453    []\n",
       "11655    []\n",
       "11656    []\n",
       "11657    []\n",
       "11675    []\n",
       "11677    []\n",
       "11691    []\n",
       "11692    []\n",
       "11694    []\n",
       "11695    []\n",
       "11703    []\n",
       "11708    []\n",
       "11709    []\n",
       "11710    []\n",
       "11712    []\n",
       "11713    []\n",
       "11714    []\n",
       "11717    []\n",
       "11718    []\n",
       "11733    []\n",
       "11737    []\n",
       "11738    []\n",
       "11740    []\n",
       "11741    []\n",
       "Name: attribute_good_ids, Length: 2273, dtype: object"
      ]
     },
     "execution_count": 17,
     "metadata": {},
     "output_type": "execute_result"
    }
   ],
   "source": [
    "df[~df['mark_for_test']]['attribute_good_ids']"
   ]
  },
  {
   "cell_type": "code",
   "execution_count": null,
   "metadata": {},
   "outputs": [],
   "source": [
    "X, y = next(my_iter)\n",
    "# X, l = list(zip(*X))\n",
    "for i, (x1, x2) in enumerate(X):\n",
    "    print()\n",
    "    print(text_transformer.index_to_docs([x1], is_skip_padding=True))\n",
    "    print(text_transformer.index_to_docs([x2], is_skip_padding=True))\n",
    "    print(y[i])"
   ]
  },
  {
   "cell_type": "code",
   "execution_count": null,
   "metadata": {},
   "outputs": [],
   "source": [
    "plt.bar(range(79), np.sum(my_dataset.data_test.y, axis=0))\n",
    "plt.title('test')\n",
    "plt.show()"
   ]
  },
  {
   "cell_type": "code",
   "execution_count": null,
   "metadata": {},
   "outputs": [],
   "source": [
    "plt.bar(range(79), np.sum(my_dataset.data_eval.y, axis=0))\n",
    "plt.title('eval')\n",
    "plt.show()"
   ]
  },
  {
   "cell_type": "code",
   "execution_count": null,
   "metadata": {},
   "outputs": [],
   "source": [
    "plt.bar(range(79), np.sum(my_dataset.data_train.y, axis=0))\n",
    "plt.title('train')\n",
    "plt.show()"
   ]
  },
  {
   "cell_type": "code",
   "execution_count": null,
   "metadata": {},
   "outputs": [],
   "source": [
    "list(zip(np.sum(my_dataset.data_test.y, axis=0), np.sum(my_dataset.data_train.y, axis=0)))"
   ]
  },
  {
   "cell_type": "code",
   "execution_count": null,
   "metadata": {},
   "outputs": [],
   "source": [
    "text_transformer = TextTransformer(vocab_file='./model/training/output/word_embedding//vocab.txt')\n",
    "lb_transformer = HierarchicalLabelTransformer.load_from_pickle('./model/label_transform/output/')"
   ]
  },
  {
   "cell_type": "code",
   "execution_count": null,
   "metadata": {},
   "outputs": [],
   "source": [
    "list(lb_transformer.lb_lv2.classes_)"
   ]
  },
  {
   "cell_type": "code",
   "execution_count": null,
   "metadata": {},
   "outputs": [],
   "source": [
    "train_iter = my_dataset.data_train.get_data_iterator(batch_size=-1, num_epochs=-1)\n",
    "eval_iter = my_dataset.data_eval.get_data_iterator(batch_size=-1, num_epochs=-1)"
   ]
  },
  {
   "cell_type": "code",
   "execution_count": null,
   "metadata": {},
   "outputs": [],
   "source": [
    "X_train, _ = next(train_iter)\n",
    "X_eval, y_eval = next(eval_iter)"
   ]
  },
  {
   "cell_type": "code",
   "execution_count": null,
   "metadata": {},
   "outputs": [],
   "source": [
    "doc_eval = text_transformer.index_to_docs(X_eval[10:20], is_skip_padding=True)\n",
    "label_eval = lb_transformer.inverse_transform(y_eval[10:20])"
   ]
  },
  {
   "cell_type": "code",
   "execution_count": null,
   "metadata": {},
   "outputs": [],
   "source": [
    "for doc, lb in zip(doc_eval, label_eval):\n",
    "    print('doc: ', doc)\n",
    "    print('lb: ', lb)\n",
    "    print()"
   ]
  },
  {
   "cell_type": "code",
   "execution_count": null,
   "metadata": {},
   "outputs": [],
   "source": [
    "sess.run(tf.reduce_sum(\n",
    "    tf.nn.sigmoid_cross_entropy_with_logits(labels=[[0., 0, 1],[0., 0, 1]], logits=[[0., 0, 10], [0., 0, 10],]),\n",
    "    axis=1\n",
    "))"
   ]
  },
  {
   "cell_type": "code",
   "execution_count": null,
   "metadata": {},
   "outputs": [],
   "source": []
  },
  {
   "cell_type": "code",
   "execution_count": null,
   "metadata": {},
   "outputs": [],
   "source": [
    "lb_transformer = HierarchicalLabelTransformer.load_from_pickle('model/label_transform/output/')\n",
    "text_transformer = TextTransformer(vocab_file='./model/vocab/output/vocab.txt')"
   ]
  },
  {
   "cell_type": "code",
   "execution_count": null,
   "metadata": {},
   "outputs": [],
   "source": [
    "dataset = dataset.Dataset.create_from_npz('model/data_for_train/output/hierarchical_data/')"
   ]
  },
  {
   "cell_type": "code",
   "execution_count": null,
   "metadata": {},
   "outputs": [],
   "source": [
    "train_iter = dataset.data_train.get_data_iterator(batch_size=10)"
   ]
  },
  {
   "cell_type": "code",
   "execution_count": null,
   "metadata": {},
   "outputs": [],
   "source": [
    "X, y = next(train_iter)"
   ]
  },
  {
   "cell_type": "code",
   "execution_count": null,
   "metadata": {},
   "outputs": [],
   "source": [
    "for doc, lb in zip(text_transformer.index_to_docs(X), lb_transformer.inverse_transform(y)):\n",
    "    print('Doc: %s' % doc)\n",
    "    print('Label: {}'.format(lb))\n",
    "    print()"
   ]
  },
  {
   "cell_type": "code",
   "execution_count": null,
   "metadata": {},
   "outputs": [],
   "source": [
    "text_transformer.index_to_docs(text_transformer.docs_to_index(['điện thoại']))"
   ]
  },
  {
   "cell_type": "code",
   "execution_count": null,
   "metadata": {},
   "outputs": [],
   "source": [
    "c = Counter(['a', 'b', 'b', 'c'])"
   ]
  },
  {
   "cell_type": "code",
   "execution_count": null,
   "metadata": {},
   "outputs": [],
   "source": [
    "c.__len__()"
   ]
  },
  {
   "cell_type": "code",
   "execution_count": null,
   "metadata": {},
   "outputs": [],
   "source": [
    "from sklearn.model_selection import StratifiedShuffleSplit"
   ]
  },
  {
   "cell_type": "code",
   "execution_count": null,
   "metadata": {},
   "outputs": [],
   "source": [
    "X = np.ones((100, 2))\n",
    "y = np.array([[1, 0]]*1 + [[1,1]]*1 + [[0, 1]]*98)"
   ]
  },
  {
   "cell_type": "code",
   "execution_count": null,
   "metadata": {},
   "outputs": [],
   "source": [
    "np.sum(y, axis=0)"
   ]
  },
  {
   "cell_type": "code",
   "execution_count": null,
   "metadata": {},
   "outputs": [],
   "source": [
    "sss = StratifiedShuffleSplit(n_splits=1, test_size=0.5, random_state=0)"
   ]
  },
  {
   "cell_type": "code",
   "execution_count": null,
   "metadata": {},
   "outputs": [],
   "source": [
    "q1, q2 = list(sss.split(X, y))[0]"
   ]
  },
  {
   "cell_type": "code",
   "execution_count": null,
   "metadata": {},
   "outputs": [],
   "source": [
    "np.sum(y[q1], axis=0)"
   ]
  },
  {
   "cell_type": "code",
   "execution_count": null,
   "metadata": {},
   "outputs": [],
   "source": [
    "np.sum(y[q2], axis=0)"
   ]
  },
  {
   "cell_type": "code",
   "execution_count": null,
   "metadata": {},
   "outputs": [],
   "source": [
    "sum(q2<15)"
   ]
  },
  {
   "cell_type": "code",
   "execution_count": null,
   "metadata": {},
   "outputs": [],
   "source": []
  }
 ],
 "metadata": {
  "kernelspec": {
   "display_name": "Python 3",
   "language": "python",
   "name": "python3"
  },
  "language_info": {
   "codemirror_mode": {
    "name": "ipython",
    "version": 3
   },
   "file_extension": ".py",
   "mimetype": "text/x-python",
   "name": "python",
   "nbconvert_exporter": "python",
   "pygments_lexer": "ipython3",
   "version": "3.5.2"
  }
 },
 "nbformat": 4,
 "nbformat_minor": 2
}
